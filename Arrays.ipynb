{
 "cells": [
  {
   "cell_type": "code",
   "execution_count": 25,
   "metadata": {},
   "outputs": [
    {
     "name": "stdout",
     "output_type": "stream",
     "text": [
      "bob\n",
      "sam\n",
      "dan\n",
      "ganly\n"
     ]
    }
   ],
   "source": [
    "names = [\"bob\",\"jane\",\"sam\",\"mike\",\"dan\",\"percy\",\"ganly\"]\n",
    "numbers = [1,2,3,4,5,6,7,8]\n",
    "\n",
    "for i in range(0,len(names),2):\n",
    "    print(names[i])"
   ]
  },
  {
   "cell_type": "code",
   "execution_count": 27,
   "metadata": {},
   "outputs": [
    {
     "name": "stdout",
     "output_type": "stream",
     "text": [
      "ganly\n"
     ]
    }
   ],
   "source": [
    "import random\n",
    "print (random.choice(names))"
   ]
  },
  {
   "cell_type": "code",
   "execution_count": 33,
   "metadata": {},
   "outputs": [
    {
     "name": "stdout",
     "output_type": "stream",
     "text": [
      "ganly\n",
      "percy\n",
      "dan\n",
      "mike\n",
      "sam\n",
      "jane\n",
      "bob\n"
     ]
    }
   ],
   "source": [
    "for i in reversed(names):\n",
    "    print(i)"
   ]
  },
  {
   "cell_type": "code",
   "execution_count": null,
   "metadata": {},
   "outputs": [],
   "source": []
  }
 ],
 "metadata": {
  "kernelspec": {
   "display_name": "Python 3",
   "language": "python",
   "name": "python3"
  },
  "language_info": {
   "codemirror_mode": {
    "name": "ipython",
    "version": 3
   },
   "file_extension": ".py",
   "mimetype": "text/x-python",
   "name": "python",
   "nbconvert_exporter": "python",
   "pygments_lexer": "ipython3",
   "version": "3.5.2"
  }
 },
 "nbformat": 4,
 "nbformat_minor": 2
}
