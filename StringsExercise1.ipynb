{
 "cells": [
  {
   "cell_type": "markdown",
   "metadata": {},
   "source": [
    "## Strings Exercise 1\n"
   ]
  },
  {
   "cell_type": "code",
   "execution_count": 8,
   "metadata": {},
   "outputs": [],
   "source": [
    "myString = (\"hello world.\")\n",
    "#This is a variable with the data type 'string'.\n",
    "#Quotation marks signify that this variable is a string.\n",
    "\n",
    "userName = (\"Gus\")\n",
    "words = (\"This is a bunch of words\")\n",
    "question = (\"What is the capital of Mali?\")\n",
    "age = (17)"
   ]
  },
  {
   "cell_type": "code",
   "execution_count": null,
   "metadata": {},
   "outputs": [],
   "source": [
    "print (words)\n",
    "print (words + question)\n",
    "#Two strings can be added together, this is called CONCATENATING strings.\n",
    "\n",
    "print (\"hello user\",userName)\n",
    "print (\"hello user\"+userName)\n",
    "\n",
    "print (\"hello user\",age)\n",
    "#This will work.\n",
    "print (\"hello user\"+age)\n",
    "#This will not work because a string cannot be concatenated with a non-string."
   ]
  },
  {
   "cell_type": "code",
   "execution_count": null,
   "metadata": {},
   "outputs": [],
   "source": [
    "userName = input(\"What is your name?\")\n",
    "print (\"Hello \"+userName)\n",
    "age = int (input (\"What is your age?\"))\n",
    "#If we want to use age as a number\n",
    "print (age)"
   ]
  }
 ],
 "metadata": {
  "kernelspec": {
   "display_name": "Python 3",
   "language": "python",
   "name": "python3"
  },
  "language_info": {
   "codemirror_mode": {
    "name": "ipython",
    "version": 3
   },
   "file_extension": ".py",
   "mimetype": "text/x-python",
   "name": "python",
   "nbconvert_exporter": "python",
   "pygments_lexer": "ipython3",
   "version": "3.5.2"
  }
 },
 "nbformat": 4,
 "nbformat_minor": 2
}
